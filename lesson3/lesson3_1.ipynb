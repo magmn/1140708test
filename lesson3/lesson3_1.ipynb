{
 "cells": [
  {
   "cell_type": "code",
   "execution_count": 1,
   "id": "205ba064",
   "metadata": {},
   "outputs": [
    {
     "name": "stdout",
     "output_type": "stream",
     "text": [
      "3\n",
      "3\n",
      "========\n",
      "3\n",
      "5\n"
     ]
    }
   ],
   "source": [
    "#基本資料類型,copy value\n",
    "n = 3\n",
    "x = n\n",
    "print(n)\n",
    "print(x)\n",
    "print(\"========\")\n",
    "x = 5\n",
    "print(n)\n",
    "print(x)"
   ]
  },
  {
   "cell_type": "code",
   "execution_count": 2,
   "id": "c2528dc4",
   "metadata": {},
   "outputs": [
    {
     "name": "stdout",
     "output_type": "stream",
     "text": [
      "['apple', 'banana', 'cherry']\n",
      "['apple', 'banana', 'cherry']\n",
      "=============\n",
      "['apple', 'raspberry', 'cherry']\n",
      "['apple', 'raspberry', 'cherry']\n",
      "['apple', 'raspberry', 'cherry']\n"
     ]
    }
   ],
   "source": [
    "fruits = ['apple', 'banana', 'cherry']\n",
    "type(fruits)\n",
    "print(fruits)\n",
    "another_fruits = fruits\n",
    "another_fruits1 = another_fruits\n",
    "print(another_fruits)\n",
    "\n",
    "print(\"=============\")\n",
    "fruits[1] = 'raspberry'\n",
    "print(fruits)\n",
    "print(another_fruits)\n",
    "print(another_fruits1)"
   ]
  },
  {
   "cell_type": "code",
   "execution_count": 5,
   "id": "dbd0cacd",
   "metadata": {},
   "outputs": [
    {
     "name": "stdout",
     "output_type": "stream",
     "text": [
      "apple\n",
      "raspberry\n",
      "cherry\n"
     ]
    }
   ],
   "source": [
    "print(fruits [0])\n",
    "print(fruits[1])\n",
    "print(fruits[2])\n"
   ]
  },
  {
   "cell_type": "code",
   "execution_count": 6,
   "id": "70f62a10",
   "metadata": {},
   "outputs": [
    {
     "name": "stdout",
     "output_type": "stream",
     "text": [
      "<class 'list'>\n"
     ]
    }
   ],
   "source": [
    "print(type(fruits))\n",
    "fruits.append('pineapple')"
   ]
  },
  {
   "cell_type": "code",
   "execution_count": 7,
   "id": "96c544fa",
   "metadata": {},
   "outputs": [
    {
     "name": "stdout",
     "output_type": "stream",
     "text": [
      "apple\n",
      "raspberry\n",
      "cherry\n",
      "pineapple\n"
     ]
    }
   ],
   "source": [
    "for item in fruits:\n",
    "    print(item)"
   ]
  },
  {
   "cell_type": "code",
   "execution_count": 8,
   "id": "93f76000",
   "metadata": {},
   "outputs": [
    {
     "name": "stdout",
     "output_type": "stream",
     "text": [
      "\n"
     ]
    }
   ],
   "source": [
    "print()"
   ]
  }
 ],
 "metadata": {
  "kernelspec": {
   "display_name": "myenv",
   "language": "python",
   "name": "python3"
  },
  "language_info": {
   "codemirror_mode": {
    "name": "ipython",
    "version": 3
   },
   "file_extension": ".py",
   "mimetype": "text/x-python",
   "name": "python",
   "nbconvert_exporter": "python",
   "pygments_lexer": "ipython3",
   "version": "3.11.13"
  }
 },
 "nbformat": 4,
 "nbformat_minor": 5
}
